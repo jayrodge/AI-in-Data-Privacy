{
 "cells": [
  {
   "cell_type": "code",
   "execution_count": 1,
   "metadata": {},
   "outputs": [],
   "source": [
    "import spacy\n",
    "import os\n",
    "import re\n",
    "import pandas as pd\n",
    "from spacy.lang.en.stop_words import STOP_WORDS"
   ]
  },
  {
   "cell_type": "code",
   "execution_count": 2,
   "metadata": {},
   "outputs": [],
   "source": [
    "nlp = spacy.load(\"en\")\n",
    "path = 'D:/Preperation for Hiring/Data Security Hackathon at IIT/Hackathon_package/documents'\n",
    "\n",
    "dataset = pd.DataFrame(columns=[\"id\", \"text\"])\n",
    "y = pd.read_csv(\"training_labels.csv\", usecols=[\"id\", \"score\"])\n",
    "filenames = os.listdir(path)"
   ]
  },
  {
   "cell_type": "code",
   "execution_count": null,
   "metadata": {},
   "outputs": [],
   "source": [
    "for index in range(len(filenames)):\n",
    "    filename = filenames[index]\n",
    "    document = open(path+\"/\"+filename, encoding='utf-8', errors='ignore').read()\n",
    "    document = nlp(document)\n",
    "    filtered_sentence = [word for word in document if word.is_stop == False and word.is_punct == False]\n",
    "    filtered_sentence = ' '.join(map(str, filtered_sentence))\n",
    "    filtered_sentence = filtered_sentence.replace(',', '')\n",
    "    dataset.loc[index] = [int(re.findall('\\d+', filename)[0]), str(filtered_sentence).lower()]\n",
    "    \n",
    "dataset[\"id\"] = dataset[\"id\"].astype(\"uint32\")\n",
    "y[\"id\"] = y[\"id\"].astype(\"uint32\")\n",
    "\n",
    "final_dataset = pd.merge(dataset, y, on='id')\n",
    "final_dataset[\"score\"] = final_dataset[\"score\"].astype(\"uint8\")"
   ]
  }
 ],
 "metadata": {
  "kernelspec": {
   "display_name": "Python 3",
   "language": "python",
   "name": "python3"
  },
  "language_info": {
   "codemirror_mode": {
    "name": "ipython",
    "version": 3
   },
   "file_extension": ".py",
   "mimetype": "text/x-python",
   "name": "python",
   "nbconvert_exporter": "python",
   "pygments_lexer": "ipython3",
   "version": "3.6.7"
  }
 },
 "nbformat": 4,
 "nbformat_minor": 2
}
