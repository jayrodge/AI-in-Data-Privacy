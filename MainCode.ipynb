{
 "cells": [
  {
   "cell_type": "code",
   "execution_count": 1,
   "metadata": {},
   "outputs": [],
   "source": [
    "import os\n",
    "import re\n",
    "import spacy\n",
    "import numpy as np\n",
    "import pandas as pd\n",
    "from tqdm import tqdm\n",
    "from functions import *\n",
    "from sklearn.svm import SVC\n",
    "from sklearn import preprocessing\n",
    "from sklearn.metrics import f1_score\n",
    "from spacy.lang.en.stop_words import STOP_WORDS\n",
    "from sklearn.ensemble import RandomForestClassifier\n",
    "from imblearn.over_sampling import RandomOverSampler\n",
    "from sklearn.model_selection import train_test_split"
   ]
  },
  {
   "cell_type": "code",
   "execution_count": 2,
   "metadata": {},
   "outputs": [],
   "source": [
    "nlp = spacy.load(\"en\")\n",
    "path = './documents'\n",
    "filenames = os.listdir(path)"
   ]
  },
  {
   "cell_type": "code",
   "execution_count": 3,
   "metadata": {},
   "outputs": [],
   "source": [
    "nlp.vocab[\"cannot\"].is_stop = False\n",
    "nlp.vocab[\"give\"].is_stop = False\n",
    "nlp.vocab[\"never\"].is_stop = False\n",
    "nlp.vocab[\"nothing\"].is_stop = False\n",
    "nlp.vocab[\"third\"].is_stop = False\n",
    "nlp.vocab[\"without\"].is_stop = False\n",
    "nlp.vocab[\"neither\"].is_stop = False\n",
    "nlp.vocab[\"do\"].is_stop = False\n",
    "nlp.vocab[\"not\"].is_stop = False"
   ]
  },
  {
   "cell_type": "code",
   "execution_count": 4,
   "metadata": {},
   "outputs": [
    {
     "name": "stderr",
     "output_type": "stream",
     "text": [
      "100%|██████████| 434/434 [00:01<00:00, 417.38it/s]\n"
     ]
    }
   ],
   "source": [
    "data = pd.DataFrame(columns=[\"id\", \"text\"])\n",
    "\n",
    "for index in tqdm(range(len(filenames))):\n",
    "    filename = filenames[index]\n",
    "    document = open(path+\"/\"+filename, encoding='utf-8', errors='ignore').read()\n",
    "    data.loc[index] = [int(re.findall('\\d+', filename)[0]), document]"
   ]
  },
  {
   "cell_type": "code",
   "execution_count": 5,
   "metadata": {},
   "outputs": [],
   "source": [
    "data.drop_duplicates(subset=[\"text\"], inplace=True)\n",
    "data.reset_index(inplace=True, drop=True)"
   ]
  },
  {
   "cell_type": "code",
   "execution_count": 7,
   "metadata": {},
   "outputs": [
    {
     "name": "stderr",
     "output_type": "stream",
     "text": [
      "100%|██████████| 275/275 [04:08<00:00,  1.97it/s]\n"
     ]
    }
   ],
   "source": [
    "replacements = {' .':'.', \" 's\":\"\", '(s)':'', '(s':'', '   ':' '}\n",
    "preprocessed_data = pd.DataFrame(columns=[\"id\", \"processed_text\"])\n",
    "\n",
    "for index in tqdm(range(len(data))):\n",
    "    document = nlp(data.loc[index,\"text\"])\n",
    "    filtered_sentence = [word for word in document if word.text in {'.', '?'} or word.is_stop is False and word.is_punct == False]\n",
    "    filtered_sentence = ' '.join(map(str, filtered_sentence))\n",
    "    filtered_sentence = multi_replace(filtered_sentence, replacements)\n",
    "    filtered_sentence = str(filtered_sentence).lower()\n",
    "    preprocessed_data.loc[index] = [data.loc[index,\"id\"], filtered_sentence]"
   ]
  },
  {
   "cell_type": "code",
   "execution_count": 8,
   "metadata": {},
   "outputs": [],
   "source": [
    "preprocessed_data.to_csv(\"preprocessed_data_dropped_limited_features.csv\", encoding='utf-8', index = False)"
   ]
  },
  {
   "cell_type": "code",
   "execution_count": null,
   "metadata": {},
   "outputs": [],
   "source": []
  },
  {
   "cell_type": "code",
   "execution_count": 9,
   "metadata": {},
   "outputs": [],
   "source": [
    "preprocessed_data['word_count'] = preprocessed_data['processed_text'].apply(lambda x: word_count(x))"
   ]
  },
  {
   "cell_type": "code",
   "execution_count": 10,
   "metadata": {},
   "outputs": [],
   "source": [
    "preprocessed_data['sentence_count'] = preprocessed_data['processed_text'].apply(lambda x: sentence_count(x))"
   ]
  },
  {
   "cell_type": "code",
   "execution_count": 11,
   "metadata": {},
   "outputs": [],
   "source": [
    "preprocessed_data['avg_sentence_length'] = preprocessed_data['word_count'].astype(\"float\")/preprocessed_data['sentence_count'].astype(\"float\")"
   ]
  },
  {
   "cell_type": "code",
   "execution_count": 12,
   "metadata": {},
   "outputs": [],
   "source": [
    "preprocessed_data['syllables_count'] = preprocessed_data['processed_text'].apply(lambda x: syllables_count(x))"
   ]
  },
  {
   "cell_type": "code",
   "execution_count": 13,
   "metadata": {},
   "outputs": [],
   "source": [
    "preprocessed_data['avg_syllables_per_word'] = preprocessed_data['processed_text'].apply(lambda x: avg_syllables_per_word(x))"
   ]
  },
  {
   "cell_type": "code",
   "execution_count": 31,
   "metadata": {},
   "outputs": [],
   "source": [
    "preprocessed_data['difficult_words'] = preprocessed_data['processed_text'].apply(lambda x: difficult_words(x))"
   ]
  },
  {
   "cell_type": "code",
   "execution_count": 32,
   "metadata": {},
   "outputs": [],
   "source": [
    "preprocessed_data['poly_syllable_count'] = preprocessed_data['processed_text'].apply(lambda x: poly_syllable_count(x))"
   ]
  },
  {
   "cell_type": "code",
   "execution_count": 56,
   "metadata": {},
   "outputs": [],
   "source": [
    "preprocessed_data['flesch_reading_ease'] = preprocessed_data['processed_text'].apply(lambda x: flesch_reading_ease(x))"
   ]
  },
  {
   "cell_type": "code",
   "execution_count": 57,
   "metadata": {},
   "outputs": [],
   "source": [
    "preprocessed_data['gunning_fog'] = preprocessed_data['processed_text'].apply(lambda x: gunning_fog(x))"
   ]
  },
  {
   "cell_type": "code",
   "execution_count": 58,
   "metadata": {},
   "outputs": [],
   "source": [
    "preprocessed_data['smog_index'] = preprocessed_data['processed_text'].apply(lambda x: smog_index(x))"
   ]
  },
  {
   "cell_type": "code",
   "execution_count": 59,
   "metadata": {},
   "outputs": [],
   "source": [
    "preprocessed_data['dale_chall_readability_score'] = preprocessed_data['processed_text'].apply(lambda x: dale_chall_readability_score(x))"
   ]
  },
  {
   "cell_type": "code",
   "execution_count": 60,
   "metadata": {},
   "outputs": [],
   "source": [
    "preprocessed_data['is_email_addresses'] = preprocessed_data['processed_text'].apply(lambda x: is_email_addresses(x))"
   ]
  },
  {
   "cell_type": "code",
   "execution_count": 61,
   "metadata": {},
   "outputs": [],
   "source": [
    "preprocessed_data['use_cookies'] = preprocessed_data['processed_text'].apply(lambda x: use_cookies(x))"
   ]
  },
  {
   "cell_type": "code",
   "execution_count": 62,
   "metadata": {},
   "outputs": [],
   "source": [
    "preprocessed_data['is_minor'] = preprocessed_data['processed_text'].apply(lambda x: is_minor(x))"
   ]
  },
  {
   "cell_type": "code",
   "execution_count": 132,
   "metadata": {},
   "outputs": [],
   "source": [
    "preprocessed_data.to_csv(\"processed_data_dropped_all_features.csv\", encoding='utf-8', index = False)"
   ]
  },
  {
   "cell_type": "code",
   "execution_count": 113,
   "metadata": {},
   "outputs": [],
   "source": [
    "y = pd.read_csv(\"training_labels.csv\")\n",
    "preprocessed_data[\"id\"] = preprocessed_data[\"id\"].astype(\"uint32\")\n",
    "preprocessed_data = pd.merge(preprocessed_data, y, on=\"id\")\n",
    "y = preprocessed_data.loc[:,\"score\"]\n",
    "del preprocessed_data[\"score\"]"
   ]
  },
  {
   "cell_type": "code",
   "execution_count": 114,
   "metadata": {},
   "outputs": [],
   "source": [
    "columns_list = preprocessed_data.columns"
   ]
  },
  {
   "cell_type": "code",
   "execution_count": 115,
   "metadata": {},
   "outputs": [],
   "source": [
    "ros = RandomOverSampler(random_state=42)\n",
    "X_res, y_res = ros.fit_resample(preprocessed_data, y)\n",
    "X_res = pd.DataFrame(X_res, columns = columns_list)\n",
    "y_res = pd.DataFrame(y_res, columns=[\"score\"])"
   ]
  },
  {
   "cell_type": "code",
   "execution_count": 117,
   "metadata": {},
   "outputs": [],
   "source": [
    "X_res.to_csv(\"processed_data_oversampled_all_features.csv\", encoding='utf-8', index = False)"
   ]
  },
  {
   "cell_type": "code",
   "execution_count": 119,
   "metadata": {},
   "outputs": [],
   "source": [
    "features = ['word_count', 'sentence_count', 'syllables_count', 'difficult_words', 'poly_syllable_count', 'flesch_reading_ease',\n",
    "       'gunning_fog', 'smog_index', 'dale_chall_readability_score', 'is_email_addresses', 'use_cookies', 'is_minor']"
   ]
  },
  {
   "cell_type": "code",
   "execution_count": 123,
   "metadata": {},
   "outputs": [],
   "source": [
    "minor_synonyms = set(['minor', 'child', 'kid', 'youngster'])\n",
    "geolocation_synonyms = set(['geo-location', 'geolocation', 'location', 'position'])\n",
    "vendor_synonyms = set(['vendor', 'vender', 'seller', 'marketer'])"
   ]
  },
  {
   "cell_type": "code",
   "execution_count": 126,
   "metadata": {},
   "outputs": [],
   "source": [
    "X_train, X_test, y_train, y_test = train_test_split(X_res[features], y_res, test_size=0.33, random_state=42)"
   ]
  },
  {
   "cell_type": "code",
   "execution_count": 127,
   "metadata": {},
   "outputs": [],
   "source": [
    "model = RandomForestClassifier(n_estimators=100)\n",
    "model.fit(X_train, np.ravel(y_train))\n",
    "pred = model.predict(X_test)"
   ]
  },
  {
   "cell_type": "code",
   "execution_count": 128,
   "metadata": {},
   "outputs": [
    {
     "data": {
      "text/plain": [
       "0.8114380844901176"
      ]
     },
     "execution_count": 128,
     "metadata": {},
     "output_type": "execute_result"
    }
   ],
   "source": [
    "f1_score(y_test, pred, average='weighted')"
   ]
  }
 ],
 "metadata": {
  "kernelspec": {
   "display_name": "Python 3",
   "language": "python",
   "name": "python3"
  },
  "language_info": {
   "codemirror_mode": {
    "name": "ipython",
    "version": 3
   },
   "file_extension": ".py",
   "mimetype": "text/x-python",
   "name": "python",
   "nbconvert_exporter": "python",
   "pygments_lexer": "ipython3",
   "version": "3.7.0"
  }
 },
 "nbformat": 4,
 "nbformat_minor": 2
}
