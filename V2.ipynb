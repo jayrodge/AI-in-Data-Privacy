{
 "cells": [
  {
   "cell_type": "code",
   "execution_count": 1,
   "metadata": {},
   "outputs": [],
   "source": [
    "import os\n",
    "import re\n",
    "import spacy\n",
    "import numpy as np\n",
    "import pandas as pd\n",
    "from tqdm import tqdm\n",
    "from functions import *\n",
    "from sklearn.svm import SVC\n",
    "from sklearn import preprocessing\n",
    "from sklearn.metrics import f1_score\n",
    "from spacy.lang.en.stop_words import STOP_WORDS\n",
    "from sklearn.ensemble import RandomForestClassifier\n",
    "from imblearn.over_sampling import RandomOverSampler\n",
    "from sklearn.model_selection import train_test_split"
   ]
  },
  {
   "cell_type": "code",
   "execution_count": 2,
   "metadata": {},
   "outputs": [],
   "source": [
    "data_sw=pd.read_csv('preprocessed_data_dropped_limited_features_new_without_additionalSW.csv')"
   ]
  },
  {
   "cell_type": "code",
   "execution_count": null,
   "metadata": {},
   "outputs": [],
   "source": [
    "for row in tqdm(range(len(data_sw))):\n",
    "    text=data_sw['processed_text'][row]\n",
    "    data_sw['word_count']=word_count(text)\n",
    "    data_sw['sentence_count']=sentence_count(text)\n",
    "    data_sw['avg_sentence_length']=data_sw['word_count'][row].astype('float')/data_sw['sentence_count'][row].astype('float')\n",
    "    data_sw['syllables_count']=syllables_count(text)\n",
    "    data_sw['avg_syllables_per_word']=avg_syllables_per_word(text)\n",
    "    data_sw['difficult_words']=difficult_words(text)\n",
    "    data_sw['poly_syllable_count']=poly_syllable_count(text)\n",
    "    data_sw['flesch_reading_ease']=flesch_reading_ease(text)\n",
    "    data_sw['gunning_fog']=gunning_fog(text)\n",
    "    data_sw['smog_index']=smog_index(text)\n",
    "    data_sw['dale_chall_readability_score']=dale_chall_readability_score(text)\n",
    "    data_sw['is_email_addresses']=is_email_addresses(text)\n",
    "    data_sw['use_cookies']=use_cookies(text)\n",
    "    data_sw['is_minor']=is_minor(text)\n",
    "    data_sw['is_sell']=is_sell(text)\n",
    "    data_sw['not_sell']=not_sell(text)\n",
    "    data_sw['is_share']=is_share(text)\n",
    "    data_sw['not_share']=not_share(text)"
   ]
  }
 ],
 "metadata": {
  "kernelspec": {
   "display_name": "Python 3",
   "language": "python",
   "name": "python3"
  },
  "language_info": {
   "codemirror_mode": {
    "name": "ipython",
    "version": 3
   },
   "file_extension": ".py",
   "mimetype": "text/x-python",
   "name": "python",
   "nbconvert_exporter": "python",
   "pygments_lexer": "ipython3",
   "version": "3.7.0"
  }
 },
 "nbformat": 4,
 "nbformat_minor": 2
}
