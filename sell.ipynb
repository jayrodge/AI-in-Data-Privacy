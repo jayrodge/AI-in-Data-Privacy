{
 "cells": [
  {
   "cell_type": "code",
   "execution_count": 18,
   "metadata": {},
   "outputs": [],
   "source": [
    "import pandas as pd\n",
    "import re"
   ]
  },
  {
   "cell_type": "code",
   "execution_count": 2,
   "metadata": {},
   "outputs": [],
   "source": [
    "data=pd.read_csv('processed_data_dropped_all_features.csv')"
   ]
  },
  {
   "cell_type": "code",
   "execution_count": 19,
   "metadata": {},
   "outputs": [],
   "source": [
    "def is_sell(text):\n",
    "    regex = re.compile(\"(?:^|\\W)sell(?:$|\\W)\")\n",
    "    m = re.search(regex, text)\n",
    "    if m is None:\n",
    "        return 0\n",
    "    else:\n",
    "        return 1"
   ]
  },
  {
   "cell_type": "code",
   "execution_count": 20,
   "metadata": {},
   "outputs": [],
   "source": [
    "data['is_sell'] = data['processed_text'].apply(lambda x: is_sell(x))"
   ]
  },
  {
   "cell_type": "code",
   "execution_count": 24,
   "metadata": {},
   "outputs": [
    {
     "data": {
      "text/plain": [
       "2      10065\n",
       "26     10533\n",
       "28      1060\n",
       "33     10632\n",
       "42     10946\n",
       "53      1160\n",
       "54      1166\n",
       "55      1169\n",
       "58      1258\n",
       "59      1276\n",
       "60      1281\n",
       "64       137\n",
       "67      1381\n",
       "70      1467\n",
       "72      1478\n",
       "73      1484\n",
       "79      1591\n",
       "80      1595\n",
       "81      1605\n",
       "83      1688\n",
       "86      1702\n",
       "87      1814\n",
       "92      1904\n",
       "100    20086\n",
       "108    20380\n",
       "112    20484\n",
       "113    20490\n",
       "118    20600\n",
       "137    21149\n",
       "138     2115\n",
       "       ...  \n",
       "199    22690\n",
       "203    22708\n",
       "204    22714\n",
       "207    22819\n",
       "209    22918\n",
       "213     2328\n",
       "214    23349\n",
       "216     2339\n",
       "217     2346\n",
       "218     2354\n",
       "223     2534\n",
       "227     2550\n",
       "229     2564\n",
       "233     2686\n",
       "234     2690\n",
       "236     2701\n",
       "241     2803\n",
       "249      308\n",
       "253      398\n",
       "254      415\n",
       "255      419\n",
       "256       46\n",
       "262      611\n",
       "263      625\n",
       "264      734\n",
       "266      751\n",
       "267      834\n",
       "269      851\n",
       "270      854\n",
       "272      939\n",
       "Name: id, Length: 79, dtype: int64"
      ]
     },
     "execution_count": 24,
     "metadata": {},
     "output_type": "execute_result"
    }
   ],
   "source": [
    "data[data['is_sell']==1]['id']"
   ]
  },
  {
   "cell_type": "code",
   "execution_count": null,
   "metadata": {},
   "outputs": [],
   "source": []
  }
 ],
 "metadata": {
  "kernelspec": {
   "display_name": "Python 3",
   "language": "python",
   "name": "python3"
  },
  "language_info": {
   "codemirror_mode": {
    "name": "ipython",
    "version": 3
   },
   "file_extension": ".py",
   "mimetype": "text/x-python",
   "name": "python",
   "nbconvert_exporter": "python",
   "pygments_lexer": "ipython3",
   "version": "3.7.0"
  }
 },
 "nbformat": 4,
 "nbformat_minor": 2
}
