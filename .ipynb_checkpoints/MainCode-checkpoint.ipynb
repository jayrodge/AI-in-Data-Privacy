{
 "cells": [
  {
   "cell_type": "code",
   "execution_count": 1,
   "metadata": {},
   "outputs": [],
   "source": [
    "import spacy\n",
    "import os\n",
    "import re\n",
    "import pandas as pd\n",
    "from tqdm import tqdm\n",
    "from functions import *\n",
    "from spacy.lang.en.stop_words import STOP_WORDS"
   ]
  },
  {
   "cell_type": "code",
   "execution_count": 2,
   "metadata": {},
   "outputs": [],
   "source": [
    "nlp = spacy.load(\"en\")\n",
    "path = 'D:/Preperation for Hiring/Data Security Hackathon at IIT/Mission-Mars/documents'\n",
    "\n",
    "dataset = pd.DataFrame(columns=[\"id\", \"text\"])\n",
    "y = pd.read_csv(\"training_labels.csv\", usecols=[\"id\", \"score\"])\n",
    "filenames = os.listdir(path)"
   ]
  },
  {
   "cell_type": "code",
   "execution_count": 3,
   "metadata": {},
   "outputs": [
    {
     "name": "stderr",
     "output_type": "stream",
     "text": [
      "100%|██████████████████████████████████████████████████████████████████████████████████████████████████████████████████████| 434/434 [12:53<00:00,  1.06s/it]\n"
     ]
    }
   ],
   "source": [
    "replacements = {' .':'.', \" 's\":\"\", '(s)':'', '(s':'', '   ':' '}\n",
    "\n",
    "for index in tqdm(range(len(filenames))):\n",
    "    filename = filenames[index]\n",
    "    document = open(path+\"/\"+filename, encoding='utf-8', errors='ignore').read()\n",
    "    document = nlp(document)\n",
    "    filtered_sentence = [word for word in document if word.text in {'.', '?'} or word.is_stop is False and word.is_punct == False]\n",
    "    filtered_sentence = ' '.join(map(str, filtered_sentence))\n",
    "    filtered_sentence = multi_replace(filtered_sentence, replacements)\n",
    "    filtered_sentence = str(filtered_sentence).lower()\n",
    "    dataset.loc[index] = [int(re.findall('\\d+', filename)[0]), filtered_sentence]"
   ]
  },
  {
   "cell_type": "code",
   "execution_count": 6,
   "metadata": {},
   "outputs": [],
   "source": [
    "dataset[\"id\"] = dataset[\"id\"].astype(\"uint32\")\n",
    "y[\"id\"] = y[\"id\"].astype(\"uint32\")\n",
    "final_dataset = pd.merge(dataset, y, on='id')"
   ]
  },
  {
   "cell_type": "code",
   "execution_count": 7,
   "metadata": {},
   "outputs": [],
   "source": [
    "final_dataset = final_dataset.drop_duplicates(subset=[\"text\"])"
   ]
  },
  {
   "cell_type": "code",
   "execution_count": 9,
   "metadata": {},
   "outputs": [],
   "source": [
    "final_dataset['word_count'] = final_dataset['text'].apply(lambda x: word_count(x))\n",
    "final_dataset['sentence_count'] = final_dataset['text'].apply(lambda x: sentence_count(x))\n",
    "final_dataset['avg_sentence_length'] = final_dataset['word_count'].astype(\"float\")/final_dataset['sentence_count'].astype(\"float\")\n",
    "final_dataset['syllables_count'] = final_dataset['text'].apply(lambda x: syllables_count(x))\n",
    "final_dataset['avg_syllables_per_word'] = final_dataset['text'].apply(lambda x: avg_syllables_per_word(x))\n",
    "final_dataset['difficult_words'] = final_dataset['text'].apply(lambda x: difficult_words(x))\n",
    "final_dataset['poly_syllable_count'] = final_dataset['text'].apply(lambda x: poly_syllable_count(x))\n",
    "final_dataset['flesch_reading_ease'] = final_dataset['text'].apply(lambda x: flesch_reading_ease(x))\n",
    "final_dataset['gunning_fog'] = final_dataset['text'].apply(lambda x: gunning_fog(x))\n",
    "final_dataset['smog_index'] = final_dataset['text'].apply(lambda x: smog_index(x))\n",
    "final_dataset['dale_chall_readability_score'] = final_dataset['text'].apply(lambda x: dale_chall_readability_score(x))"
   ]
  },
  {
   "cell_type": "code",
   "execution_count": 10,
   "metadata": {},
   "outputs": [],
   "source": [
    "minor_synonyms = set(['minor', 'child', 'kid', 'youngster'])\n",
    "geolocation_synonyms = set(['geo-location', 'geolocation', 'location', 'position'])\n",
    "vendor_synonyms = set(['vendor', 'vender', 'seller', 'marketer'])"
   ]
  },
  {
   "cell_type": "code",
   "execution_count": 11,
   "metadata": {},
   "outputs": [],
   "source": [
    "final_dataset['number_of_email_addresses'] = final_dataset['text'].apply(lambda x: number_of_email_addresses(x))\n",
    "final_dataset['use_cookies'] = final_dataset['text'].apply(lambda x: use_cookies(x))"
   ]
  },
  {
   "cell_type": "code",
   "execution_count": null,
   "metadata": {},
   "outputs": [],
   "source": [
    "# final_dataset['is_minor'] = final_dataset['text'].apply(lambda x: is_minor(x))\n",
    "# final_dataset['is_how_collect'] = \n",
    "# final_dataset['is_geo_location'] = \n",
    "# final_dataset['is_vendor'] = \n",
    "# final_dataset['is_not_sell'] = \n",
    "# final_dataset['is_sell'] = \n",
    "# final_dataset['is_share'] = \n",
    "# final_dataset['is_not_share'] = "
   ]
  },
  {
   "cell_type": "code",
   "execution_count": 12,
   "metadata": {},
   "outputs": [],
   "source": [
    "final_dataset.to_csv(\"final_dataset.csv\", encoding='utf-8', index = False)"
   ]
  },
  {
   "cell_type": "code",
   "execution_count": null,
   "metadata": {},
   "outputs": [],
   "source": []
  }
 ],
 "metadata": {
  "kernelspec": {
   "display_name": "Python 3",
   "language": "python",
   "name": "python3"
  },
  "language_info": {
   "codemirror_mode": {
    "name": "ipython",
    "version": 3
   },
   "file_extension": ".py",
   "mimetype": "text/x-python",
   "name": "python",
   "nbconvert_exporter": "python",
   "pygments_lexer": "ipython3",
   "version": "3.6.7"
  }
 },
 "nbformat": 4,
 "nbformat_minor": 2
}
