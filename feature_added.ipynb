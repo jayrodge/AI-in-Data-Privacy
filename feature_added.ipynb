{
 "cells": [
  {
   "cell_type": "code",
   "execution_count": 63,
   "metadata": {},
   "outputs": [],
   "source": [
    "import pandas as pd\n",
    "from functions import *"
   ]
  },
  {
   "cell_type": "code",
   "execution_count": 65,
   "metadata": {},
   "outputs": [],
   "source": [
    "df=pd.read_csv('final_dataset.csv')"
   ]
  },
  {
   "cell_type": "code",
   "execution_count": 66,
   "metadata": {},
   "outputs": [],
   "source": [
    "df=df[:10]"
   ]
  },
  {
   "cell_type": "code",
   "execution_count": 67,
   "metadata": {},
   "outputs": [
    {
     "data": {
      "text/plain": [
       "0    gdpr privacy notice \\r\\n introduction at nova ...\n",
       "1    at&t business customer gdpr privacy notice may...\n",
       "2    gdpr privacy notice \\r\\n introduction at nova ...\n",
       "3    wesley house data protection statement privacy...\n",
       "4    at&t business customer gdpr privacy notice may...\n",
       "5    privacy notices \\r\\n an explanation privacy no...\n",
       "6    privacy notice for visitors and contractors \\r...\n",
       "7    privacy notices \\r\\n an explanation privacy no...\n",
       "8    privacy notice for visitors and contractors \\r...\n",
       "9    general data protection regulation gdpr \\r\\n p...\n",
       "Name: text, dtype: object"
      ]
     },
     "execution_count": 67,
     "metadata": {},
     "output_type": "execute_result"
    }
   ],
   "source": [
    "df['text']"
   ]
  },
  {
   "cell_type": "code",
   "execution_count": 69,
   "metadata": {},
   "outputs": [],
   "source": [
    "oddf['Smog']=df['text'].apply(lambda x: smog_index(x)) "
   ]
  },
  {
   "cell_type": "code",
   "execution_count": 70,
   "metadata": {},
   "outputs": [
    {
     "data": {
      "text/html": [
       "<div>\n",
       "<style scoped>\n",
       "    .dataframe tbody tr th:only-of-type {\n",
       "        vertical-align: middle;\n",
       "    }\n",
       "\n",
       "    .dataframe tbody tr th {\n",
       "        vertical-align: top;\n",
       "    }\n",
       "\n",
       "    .dataframe thead th {\n",
       "        text-align: right;\n",
       "    }\n",
       "</style>\n",
       "<table border=\"1\" class=\"dataframe\">\n",
       "  <thead>\n",
       "    <tr style=\"text-align: right;\">\n",
       "      <th></th>\n",
       "      <th>id</th>\n",
       "      <th>text</th>\n",
       "      <th>score</th>\n",
       "      <th>Smog</th>\n",
       "    </tr>\n",
       "  </thead>\n",
       "  <tbody>\n",
       "    <tr>\n",
       "      <th>0</th>\n",
       "      <td>10051</td>\n",
       "      <td>gdpr privacy notice \\r\\n introduction at nova ...</td>\n",
       "      <td>4</td>\n",
       "      <td>3.1</td>\n",
       "    </tr>\n",
       "    <tr>\n",
       "      <th>1</th>\n",
       "      <td>10062</td>\n",
       "      <td>at&amp;t business customer gdpr privacy notice may...</td>\n",
       "      <td>2</td>\n",
       "      <td>3.1</td>\n",
       "    </tr>\n",
       "    <tr>\n",
       "      <th>2</th>\n",
       "      <td>10063</td>\n",
       "      <td>gdpr privacy notice \\r\\n introduction at nova ...</td>\n",
       "      <td>4</td>\n",
       "      <td>3.1</td>\n",
       "    </tr>\n",
       "    <tr>\n",
       "      <th>3</th>\n",
       "      <td>10065</td>\n",
       "      <td>wesley house data protection statement privacy...</td>\n",
       "      <td>2</td>\n",
       "      <td>3.1</td>\n",
       "    </tr>\n",
       "    <tr>\n",
       "      <th>4</th>\n",
       "      <td>10074</td>\n",
       "      <td>at&amp;t business customer gdpr privacy notice may...</td>\n",
       "      <td>2</td>\n",
       "      <td>3.1</td>\n",
       "    </tr>\n",
       "    <tr>\n",
       "      <th>5</th>\n",
       "      <td>10077</td>\n",
       "      <td>privacy notices \\r\\n an explanation privacy no...</td>\n",
       "      <td>3</td>\n",
       "      <td>3.1</td>\n",
       "    </tr>\n",
       "    <tr>\n",
       "      <th>6</th>\n",
       "      <td>10080</td>\n",
       "      <td>privacy notice for visitors and contractors \\r...</td>\n",
       "      <td>2</td>\n",
       "      <td>3.1</td>\n",
       "    </tr>\n",
       "    <tr>\n",
       "      <th>7</th>\n",
       "      <td>10089</td>\n",
       "      <td>privacy notices \\r\\n an explanation privacy no...</td>\n",
       "      <td>3</td>\n",
       "      <td>3.1</td>\n",
       "    </tr>\n",
       "    <tr>\n",
       "      <th>8</th>\n",
       "      <td>10092</td>\n",
       "      <td>privacy notice for visitors and contractors \\r...</td>\n",
       "      <td>2</td>\n",
       "      <td>3.1</td>\n",
       "    </tr>\n",
       "    <tr>\n",
       "      <th>9</th>\n",
       "      <td>10170</td>\n",
       "      <td>general data protection regulation gdpr \\r\\n p...</td>\n",
       "      <td>2</td>\n",
       "      <td>3.1</td>\n",
       "    </tr>\n",
       "  </tbody>\n",
       "</table>\n",
       "</div>"
      ],
      "text/plain": [
       "      id                                               text  score  Smog\n",
       "0  10051  gdpr privacy notice \\r\\n introduction at nova ...      4   3.1\n",
       "1  10062  at&t business customer gdpr privacy notice may...      2   3.1\n",
       "2  10063  gdpr privacy notice \\r\\n introduction at nova ...      4   3.1\n",
       "3  10065  wesley house data protection statement privacy...      2   3.1\n",
       "4  10074  at&t business customer gdpr privacy notice may...      2   3.1\n",
       "5  10077  privacy notices \\r\\n an explanation privacy no...      3   3.1\n",
       "6  10080  privacy notice for visitors and contractors \\r...      2   3.1\n",
       "7  10089  privacy notices \\r\\n an explanation privacy no...      3   3.1\n",
       "8  10092  privacy notice for visitors and contractors \\r...      2   3.1\n",
       "9  10170  general data protection regulation gdpr \\r\\n p...      2   3.1"
      ]
     },
     "execution_count": 70,
     "metadata": {},
     "output_type": "execute_result"
    }
   ],
   "source": [
    "df"
   ]
  },
  {
   "cell_type": "code",
   "execution_count": null,
   "metadata": {
    "collapsed": true
   },
   "outputs": [],
   "source": []
  }
 ],
 "metadata": {
  "kernelspec": {
   "display_name": "Python 3",
   "language": "python",
   "name": "python3"
  },
  "language_info": {
   "codemirror_mode": {
    "name": "ipython",
    "version": 3
   },
   "file_extension": ".py",
   "mimetype": "text/x-python",
   "name": "python",
   "nbconvert_exporter": "python",
   "pygments_lexer": "ipython3",
   "version": "3.6.6"
  }
 },
 "nbformat": 4,
 "nbformat_minor": 2
}
